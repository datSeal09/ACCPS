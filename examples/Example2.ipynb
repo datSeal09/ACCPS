{
 "cells": [
  {
   "cell_type": "markdown",
   "id": "87eac976",
   "metadata": {},
   "source": [
    "# Example to use the library 📚\n",
    "All the examples are taken from the scietific article: ......"
   ]
  },
  {
   "cell_type": "markdown",
   "id": "e7367dc6",
   "metadata": {},
   "source": [
    "## 0: Importing the library 📖"
   ]
  },
  {
   "cell_type": "code",
   "execution_count": 19,
   "id": "6847f2a3",
   "metadata": {},
   "outputs": [],
   "source": [
    "import LibACCPS as lib \n",
    "fz=frozenset"
   ]
  },
  {
   "cell_type": "markdown",
   "id": "40fb74f4",
   "metadata": {},
   "source": [
    "## 1: Defining the data 💾"
   ]
  },
  {
   "cell_type": "code",
   "execution_count": 20,
   "id": "5ea101cd",
   "metadata": {},
   "outputs": [
    {
     "name": "stdout",
     "output_type": "stream",
     "text": [
      "----- STATES -----\n",
      "  CFG_TX, IDLE, PREP_H, PREP_L, TX_H, TX_L\n",
      "---- ALPHABET ----\n",
      "  cfg, ok, rst, sH, sL, sw, sw2\n",
      "--- INIT STATE ---\n",
      "  IDLE\n",
      "----- DELTA ------\n",
      "  CFG_TX --(sH)--> PREP_H\n",
      "  CFG_TX --(sL)--> PREP_L\n",
      "  IDLE --(cfg)--> CFG_TX\n",
      "  PREP_H --(ok)--> TX_H\n",
      "  PREP_H --(sw)--> PREP_L\n",
      "  PREP_L --(ok)--> TX_L\n",
      "  PREP_L --(sw2)--> PREP_H\n",
      "  TX_H --(rst)--> IDLE\n",
      "  TX_L --(rst)--> IDLE\n",
      "-- FINAL STATES --\n",
      "  TX_H, TX_L\n"
     ]
    }
   ],
   "source": [
    "e_obs = fz([\"sH\", \"sL\", \"sw\", \"ok\", \"rst\"])\n",
    "e_unobs = fz([\"cfg\"])\n",
    "e_ins = fz({\"sH\", \"sL\"})\n",
    "e_era = fz({\"sH\", \"sL\"})\n",
    "\n",
    "rel={\n",
    "    \"sw2\":\"sw\"\n",
    "}\n",
    "g = lib.DFA(\n",
    "    states=fz([\n",
    "        \"IDLE\",       # Inattivo\n",
    "        \"CFG_TX\",     # Ricezione configurazione (payload valido)\n",
    "        \"PREP_H\",     # Preparazione TX su banda alta\n",
    "        \"PREP_L\",     # Preparazione TX su banda bassa\n",
    "        \"TX_H\",       # Trasmissione su H confermata\n",
    "        \"TX_L\"        # Trasmissione su L confermata\n",
    "    ]),\n",
    "    alphabet=fz([\n",
    "        \"sH\", \"sL\", \"sw2\",\n",
    "        \"sw\", \"ok\", \"rst\", \"cfg\"  # cfg_ok sarà trattato come Euo\n",
    "    ]),\n",
    "    initial=\"IDLE\",\n",
    "    finals=fz([\"TX_H\", \"TX_L\"]),\n",
    "    delta={\n",
    "        (\"IDLE\",     \"cfg\") : \"CFG_TX\",     # evento interno (unobs)\n",
    "\n",
    "        (\"CFG_TX\",   \"sH\")  : \"PREP_H\",\n",
    "        (\"CFG_TX\",   \"sL\")  : \"PREP_L\",\n",
    "\n",
    "        (\"PREP_H\",   \"sw\") : \"PREP_L\",\n",
    "        (\"PREP_L\",   \"sw2\") : \"PREP_H\",\n",
    "\n",
    "        (\"PREP_H\",   \"ok\"): \"TX_H\",\n",
    "        (\"PREP_L\",   \"ok\"): \"TX_L\",\n",
    "\n",
    "        (\"TX_H\",\"rst\")  : \"IDLE\",\n",
    "        (\"TX_L\",\"rst\")  : \"IDLE\"\n",
    "    }\n",
    ")\n",
    "eq_nfa = lib.mask(g, e_obs, e_unobs, rel)\n",
    "eq_nfa.print_data\n",
    "g.print_data()\n",
    "lib.draw_dfa_graphviz(g, filename=\"DFA\")\n",
    "lib.draw_nfa_graphviz(eq_nfa, filename=\"DFA_masked\")\n"
   ]
  },
  {
   "cell_type": "markdown",
   "id": "9c93f511",
   "metadata": {},
   "source": [
    "## 2: Computing the observer 👁️"
   ]
  },
  {
   "cell_type": "code",
   "execution_count": 21,
   "id": "c21b4e6b",
   "metadata": {},
   "outputs": [
    {
     "name": "stdout",
     "output_type": "stream",
     "text": [
      "----- STATES -----\n",
      "  {CFG_TX, IDLE}, {PREP_H}, {PREP_L}, {TX_H}, {TX_L}\n",
      "---- ALPHABET ----\n",
      "  ok, rst, sH, sL, sw\n",
      "--- INIT STATE ---\n",
      "  {CFG_TX, IDLE}\n",
      "----- DELTA ------\n",
      "  {CFG_TX, IDLE} --(sH)--> {PREP_H}\n",
      "  {CFG_TX, IDLE} --(sL)--> {PREP_L}\n",
      "  {PREP_H} --(ok)--> {TX_H}\n",
      "  {PREP_H} --(sw)--> {PREP_L}\n",
      "  {PREP_L} --(ok)--> {TX_L}\n",
      "  {PREP_L} --(sw)--> {PREP_H}\n",
      "  {TX_H} --(rst)--> {CFG_TX, IDLE}\n",
      "  {TX_L} --(rst)--> {CFG_TX, IDLE}\n",
      "-- FINAL STATES --\n",
      "  {TX_H}, {TX_L}\n"
     ]
    }
   ],
   "source": [
    "obs=lib.compute_observer(eq_nfa)\n",
    "obs.print_data()\n",
    "\n",
    "\n",
    "lib.draw_dfa_graphviz(obs, filename=\"obs_graph\")"
   ]
  },
  {
   "cell_type": "markdown",
   "id": "9fb3ae1e",
   "metadata": {},
   "source": [
    "## 3: Computing the attack observer 🏹"
   ]
  },
  {
   "cell_type": "code",
   "execution_count": 22,
   "id": "47ca51de",
   "metadata": {},
   "outputs": [
    {
     "name": "stdout",
     "output_type": "stream",
     "text": [
      "Attack Observer\n",
      "----- STATES -----\n",
      "  {CFG_TX, IDLE}, {PREP_H}, {PREP_L}, {TX_H}, {TX_L}\n",
      "---- ALPHABET ----\n",
      "  ok, rst, sH, sH+, sH-, sL, sL+, sL-, sw\n",
      "--- INIT STATE ---\n",
      "  {CFG_TX, IDLE}\n",
      "----- DELTA ------\n",
      "  {CFG_TX, IDLE} --(sH)--> {PREP_H}\n",
      "  {CFG_TX, IDLE} --(sH+)--> {CFG_TX, IDLE}\n",
      "  {CFG_TX, IDLE} --(sH-)--> {PREP_H}\n",
      "  {CFG_TX, IDLE} --(sL)--> {PREP_L}\n",
      "  {CFG_TX, IDLE} --(sL+)--> {CFG_TX, IDLE}\n",
      "  {CFG_TX, IDLE} --(sL-)--> {PREP_L}\n",
      "  {PREP_H} --(ok)--> {TX_H}\n",
      "  {PREP_H} --(sH+)--> {PREP_H}\n",
      "  {PREP_H} --(sL+)--> {PREP_H}\n",
      "  {PREP_H} --(sw)--> {PREP_L}\n",
      "  {PREP_L} --(ok)--> {TX_L}\n",
      "  {PREP_L} --(sH+)--> {PREP_L}\n",
      "  {PREP_L} --(sL+)--> {PREP_L}\n",
      "  {PREP_L} --(sw)--> {PREP_H}\n",
      "  {TX_H} --(rst)--> {CFG_TX, IDLE}\n",
      "  {TX_H} --(sH+)--> {TX_H}\n",
      "  {TX_H} --(sL+)--> {TX_H}\n",
      "  {TX_L} --(rst)--> {CFG_TX, IDLE}\n",
      "  {TX_L} --(sH+)--> {TX_L}\n",
      "  {TX_L} --(sL+)--> {TX_L}\n",
      "-- FINAL STATES --\n",
      "  (none)\n"
     ]
    }
   ],
   "source": [
    "att_obs, e_plus, e_minus=lib.create_attack_observer(obs, e_ins, e_era)\n",
    "\n",
    "lib.draw_dfa_graphviz(att_obs, filename=\"att_obs_graph\")\n",
    "print(\"Attack Observer\")\n",
    "att_obs.print_data()"
   ]
  },
  {
   "cell_type": "markdown",
   "id": "02fa1907",
   "metadata": {},
   "source": [
    "## 4: Creating the operator observer 🛡️"
   ]
  },
  {
   "cell_type": "code",
   "execution_count": 23,
   "id": "f289fe8f",
   "metadata": {},
   "outputs": [
    {
     "name": "stdout",
     "output_type": "stream",
     "text": [
      "Op Observer\n",
      "----- STATES -----\n",
      "  {CFG_TX, IDLE}, {PREP_H}, {PREP_L}, {TX_H}, {TX_L}, {empty}\n",
      "---- ALPHABET ----\n",
      "  ok, rst, sH, sH+, sH-, sL, sL+, sL-, sw\n",
      "--- INIT STATE ---\n",
      "  {CFG_TX, IDLE}\n",
      "----- DELTA ------\n",
      "  {CFG_TX, IDLE} --(ok)--> {empty}\n",
      "  {CFG_TX, IDLE} --(rst)--> {empty}\n",
      "  {CFG_TX, IDLE} --(sH)--> {PREP_H}\n",
      "  {CFG_TX, IDLE} --(sH+)--> {PREP_H}\n",
      "  {CFG_TX, IDLE} --(sH-)--> {CFG_TX, IDLE}\n",
      "  {CFG_TX, IDLE} --(sL)--> {PREP_L}\n",
      "  {CFG_TX, IDLE} --(sL+)--> {PREP_L}\n",
      "  {CFG_TX, IDLE} --(sL-)--> {CFG_TX, IDLE}\n",
      "  {CFG_TX, IDLE} --(sw)--> {empty}\n",
      "  {PREP_H} --(ok)--> {TX_H}\n",
      "  {PREP_H} --(rst)--> {empty}\n",
      "  {PREP_H} --(sH)--> {empty}\n",
      "  {PREP_H} --(sH+)--> {empty}\n",
      "  {PREP_H} --(sH-)--> {PREP_H}\n",
      "  {PREP_H} --(sL)--> {empty}\n",
      "  {PREP_H} --(sL+)--> {empty}\n",
      "  {PREP_H} --(sL-)--> {PREP_H}\n",
      "  {PREP_H} --(sw)--> {PREP_L}\n",
      "  {PREP_L} --(ok)--> {TX_L}\n",
      "  {PREP_L} --(rst)--> {empty}\n",
      "  {PREP_L} --(sH)--> {empty}\n",
      "  {PREP_L} --(sH+)--> {empty}\n",
      "  {PREP_L} --(sH-)--> {PREP_L}\n",
      "  {PREP_L} --(sL)--> {empty}\n",
      "  {PREP_L} --(sL+)--> {empty}\n",
      "  {PREP_L} --(sL-)--> {PREP_L}\n",
      "  {PREP_L} --(sw)--> {PREP_H}\n",
      "  {TX_H} --(ok)--> {empty}\n",
      "  {TX_H} --(rst)--> {CFG_TX, IDLE}\n",
      "  {TX_H} --(sH)--> {empty}\n",
      "  {TX_H} --(sH+)--> {empty}\n",
      "  {TX_H} --(sH-)--> {TX_H}\n",
      "  {TX_H} --(sL)--> {empty}\n",
      "  {TX_H} --(sL+)--> {empty}\n",
      "  {TX_H} --(sL-)--> {TX_H}\n",
      "  {TX_H} --(sw)--> {empty}\n",
      "  {TX_L} --(ok)--> {empty}\n",
      "  {TX_L} --(rst)--> {CFG_TX, IDLE}\n",
      "  {TX_L} --(sH)--> {empty}\n",
      "  {TX_L} --(sH+)--> {empty}\n",
      "  {TX_L} --(sH-)--> {TX_L}\n",
      "  {TX_L} --(sL)--> {empty}\n",
      "  {TX_L} --(sL+)--> {empty}\n",
      "  {TX_L} --(sL-)--> {TX_L}\n",
      "  {TX_L} --(sw)--> {empty}\n",
      "-- FINAL STATES --\n",
      "  (none)\n"
     ]
    }
   ],
   "source": [
    "op_obs=lib.create_operator_observer(obs, e_ins, e_era)\n",
    "\n",
    "print(\"Op Observer\")\n",
    "op_obs.print_data()\n",
    "lib.draw_dfa_graphviz(op_obs, filename=\"op_obs_graph\")"
   ]
  },
  {
   "cell_type": "markdown",
   "id": "451ed95c",
   "metadata": {},
   "source": [
    "## 5: Computing the joint observer graph 👁️‍🗨️"
   ]
  },
  {
   "cell_type": "code",
   "execution_count": 24,
   "id": "672cbe30",
   "metadata": {},
   "outputs": [
    {
     "name": "stdout",
     "output_type": "stream",
     "text": [
      "----- STATES -----\n",
      "  ({CFG_TX, IDLE}, {CFG_TX, IDLE}), ({CFG_TX, IDLE}, {PREP_H}), ({CFG_TX, IDLE}, {PREP_L})\n",
      "  ({CFG_TX, IDLE}, {empty}), ({PREP_H}, {CFG_TX, IDLE}), ({PREP_H}, {PREP_H})\n",
      "  ({PREP_H}, {PREP_L}), ({PREP_H}, {empty}), ({PREP_L}, {CFG_TX, IDLE}), ({PREP_L}, {PREP_H})\n",
      "  ({PREP_L}, {PREP_L}), ({PREP_L}, {empty}), ({TX_H}, {TX_H}), ({TX_H}, {TX_L}), ({TX_H}, {empty})\n",
      "  ({TX_L}, {TX_H}), ({TX_L}, {TX_L}), ({TX_L}, {empty})\n",
      "---- ALPHABET ----\n",
      "  ok, rst, sH, sH+, sH-, sL, sL+, sL-, sw\n",
      "--- INIT STATE ---\n",
      "  ({CFG_TX, IDLE}, {CFG_TX, IDLE})\n",
      "----- DELTA ------\n",
      "  ({CFG_TX, IDLE}, {CFG_TX, IDLE}) --(sH)--> ({PREP_H}, {PREP_H})\n",
      "  ({CFG_TX, IDLE}, {CFG_TX, IDLE}) --(sH+)--> ({CFG_TX, IDLE}, {PREP_H})\n",
      "  ({CFG_TX, IDLE}, {CFG_TX, IDLE}) --(sH-)--> ({PREP_H}, {CFG_TX, IDLE})\n",
      "  ({CFG_TX, IDLE}, {CFG_TX, IDLE}) --(sL)--> ({PREP_L}, {PREP_L})\n",
      "  ({CFG_TX, IDLE}, {CFG_TX, IDLE}) --(sL+)--> ({CFG_TX, IDLE}, {PREP_L})\n",
      "  ({CFG_TX, IDLE}, {CFG_TX, IDLE}) --(sL-)--> ({PREP_L}, {CFG_TX, IDLE})\n",
      "  ({CFG_TX, IDLE}, {PREP_H}) --(sH)--> ({PREP_H}, {empty})\n",
      "  ({CFG_TX, IDLE}, {PREP_H}) --(sH+)--> ({CFG_TX, IDLE}, {empty})\n",
      "  ({CFG_TX, IDLE}, {PREP_H}) --(sH-)--> ({PREP_H}, {PREP_H})\n",
      "  ({CFG_TX, IDLE}, {PREP_H}) --(sL)--> ({PREP_L}, {empty})\n",
      "  ({CFG_TX, IDLE}, {PREP_H}) --(sL+)--> ({CFG_TX, IDLE}, {empty})\n",
      "  ({CFG_TX, IDLE}, {PREP_H}) --(sL-)--> ({PREP_L}, {PREP_H})\n",
      "  ({CFG_TX, IDLE}, {PREP_L}) --(sH)--> ({PREP_H}, {empty})\n",
      "  ({CFG_TX, IDLE}, {PREP_L}) --(sH+)--> ({CFG_TX, IDLE}, {empty})\n",
      "  ({CFG_TX, IDLE}, {PREP_L}) --(sH-)--> ({PREP_H}, {PREP_L})\n",
      "  ({CFG_TX, IDLE}, {PREP_L}) --(sL)--> ({PREP_L}, {empty})\n",
      "  ({CFG_TX, IDLE}, {PREP_L}) --(sL+)--> ({CFG_TX, IDLE}, {empty})\n",
      "  ({CFG_TX, IDLE}, {PREP_L}) --(sL-)--> ({PREP_L}, {PREP_L})\n",
      "  ({PREP_H}, {CFG_TX, IDLE}) --(ok)--> ({TX_H}, {empty})\n",
      "  ({PREP_H}, {CFG_TX, IDLE}) --(sH+)--> ({PREP_H}, {PREP_H})\n",
      "  ({PREP_H}, {CFG_TX, IDLE}) --(sL+)--> ({PREP_H}, {PREP_L})\n",
      "  ({PREP_H}, {CFG_TX, IDLE}) --(sw)--> ({PREP_L}, {empty})\n",
      "  ({PREP_H}, {PREP_H}) --(ok)--> ({TX_H}, {TX_H})\n",
      "  ({PREP_H}, {PREP_H}) --(sH+)--> ({PREP_H}, {empty})\n",
      "  ({PREP_H}, {PREP_H}) --(sL+)--> ({PREP_H}, {empty})\n",
      "  ({PREP_H}, {PREP_H}) --(sw)--> ({PREP_L}, {PREP_L})\n",
      "  ({PREP_H}, {PREP_L}) --(ok)--> ({TX_H}, {TX_L})\n",
      "  ({PREP_H}, {PREP_L}) --(sH+)--> ({PREP_H}, {empty})\n",
      "  ({PREP_H}, {PREP_L}) --(sL+)--> ({PREP_H}, {empty})\n",
      "  ({PREP_H}, {PREP_L}) --(sw)--> ({PREP_L}, {PREP_H})\n",
      "  ({PREP_L}, {CFG_TX, IDLE}) --(ok)--> ({TX_L}, {empty})\n",
      "  ({PREP_L}, {CFG_TX, IDLE}) --(sH+)--> ({PREP_L}, {PREP_H})\n",
      "  ({PREP_L}, {CFG_TX, IDLE}) --(sL+)--> ({PREP_L}, {PREP_L})\n",
      "  ({PREP_L}, {CFG_TX, IDLE}) --(sw)--> ({PREP_H}, {empty})\n",
      "  ({PREP_L}, {PREP_H}) --(ok)--> ({TX_L}, {TX_H})\n",
      "  ({PREP_L}, {PREP_H}) --(sH+)--> ({PREP_L}, {empty})\n",
      "  ({PREP_L}, {PREP_H}) --(sL+)--> ({PREP_L}, {empty})\n",
      "  ({PREP_L}, {PREP_H}) --(sw)--> ({PREP_H}, {PREP_L})\n",
      "  ({PREP_L}, {PREP_L}) --(ok)--> ({TX_L}, {TX_L})\n",
      "  ({PREP_L}, {PREP_L}) --(sH+)--> ({PREP_L}, {empty})\n",
      "  ({PREP_L}, {PREP_L}) --(sL+)--> ({PREP_L}, {empty})\n",
      "  ({PREP_L}, {PREP_L}) --(sw)--> ({PREP_H}, {PREP_H})\n",
      "  ({TX_H}, {TX_H}) --(rst)--> ({CFG_TX, IDLE}, {CFG_TX, IDLE})\n",
      "  ({TX_H}, {TX_H}) --(sH+)--> ({TX_H}, {empty})\n",
      "  ({TX_H}, {TX_H}) --(sL+)--> ({TX_H}, {empty})\n",
      "  ({TX_H}, {TX_L}) --(rst)--> ({CFG_TX, IDLE}, {CFG_TX, IDLE})\n",
      "  ({TX_H}, {TX_L}) --(sH+)--> ({TX_H}, {empty})\n",
      "  ({TX_H}, {TX_L}) --(sL+)--> ({TX_H}, {empty})\n",
      "  ({TX_L}, {TX_H}) --(rst)--> ({CFG_TX, IDLE}, {CFG_TX, IDLE})\n",
      "  ({TX_L}, {TX_H}) --(sH+)--> ({TX_L}, {empty})\n",
      "  ({TX_L}, {TX_H}) --(sL+)--> ({TX_L}, {empty})\n",
      "  ({TX_L}, {TX_L}) --(rst)--> ({CFG_TX, IDLE}, {CFG_TX, IDLE})\n",
      "  ({TX_L}, {TX_L}) --(sH+)--> ({TX_L}, {empty})\n",
      "  ({TX_L}, {TX_L}) --(sL+)--> ({TX_L}, {empty})\n",
      "-- FINAL STATES --\n",
      "  (none)\n"
     ]
    }
   ],
   "source": [
    "mega_obs=lib.concurrent_composition(att_obs, op_obs)\n",
    "\n",
    "mega_obs.print_data()\n",
    "\n",
    "lib.draw_dfa_graphviz(mega_obs, filename=\"joint_observer_graph\")\n"
   ]
  },
  {
   "cell_type": "markdown",
   "id": "1430df68",
   "metadata": {},
   "source": [
    "## 6: Computing the n-bounded observer 🗞️"
   ]
  },
  {
   "cell_type": "code",
   "execution_count": 25,
   "id": "496250c1",
   "metadata": {},
   "outputs": [
    {
     "name": "stdout",
     "output_type": "stream",
     "text": [
      "----- STATES -----\n",
      "  0, 1\n",
      "---- ALPHABET ----\n",
      "  ok, rst, sH, sH+, sH-, sL, sL+, sL-, sw\n",
      "--- INIT STATE ---\n",
      "  0\n",
      "----- DELTA ------\n",
      "  0 --(ok)--> 0\n",
      "  0 --(rst)--> 0\n",
      "  0 --(sH)--> 0\n",
      "  0 --(sH+)--> 1\n",
      "  0 --(sH-)--> 0\n",
      "  0 --(sL)--> 0\n",
      "  0 --(sL+)--> 1\n",
      "  0 --(sL-)--> 0\n",
      "  0 --(sw)--> 0\n",
      "  1 --(ok)--> 0\n",
      "  1 --(rst)--> 0\n",
      "  1 --(sH)--> 0\n",
      "  1 --(sH-)--> 0\n",
      "  1 --(sL)--> 0\n",
      "  1 --(sL-)--> 0\n",
      "  1 --(sw)--> 0\n",
      "-- FINAL STATES --\n",
      "  (none)\n"
     ]
    }
   ],
   "source": [
    "\n",
    "\n",
    "g1 = lib.gn_creator(1, att_obs.alphabet, e_plus)\n",
    "g1.print_data()\n",
    "lib.draw_dfa_graphviz(g1, filename=\"bounder_1\")\n",
    "\n",
    "\n",
    "bounded_1=lib.concurrent_composition(mega_obs, g1)\n",
    "lib.draw_dfa_graphviz(bounded_1, filename=\"1_bounded_joint\")\n"
   ]
  },
  {
   "cell_type": "markdown",
   "id": "f498ea6b",
   "metadata": {},
   "source": [
    "## 7: Computing the supremal joint observer 🤴"
   ]
  },
  {
   "cell_type": "code",
   "execution_count": 26,
   "id": "bab3a547",
   "metadata": {},
   "outputs": [
    {
     "name": "stdout",
     "output_type": "stream",
     "text": [
      "Inserting (frozenset({'PREP_L'}), frozenset({'CFG_TX', 'IDLE'})) sL+ (frozenset({'PREP_L'}), frozenset({'PREP_L'}))\n",
      "Inserting (frozenset({'PREP_L'}), frozenset({'CFG_TX', 'IDLE'})) sH+ (frozenset({'PREP_L'}), frozenset({'PREP_H'}))\n",
      "Inserting (frozenset({'PREP_H'}), frozenset({'CFG_TX', 'IDLE'})) sL+ (frozenset({'PREP_H'}), frozenset({'PREP_L'}))\n",
      "Inserting (frozenset({'PREP_H'}), frozenset({'CFG_TX', 'IDLE'})) sH+ (frozenset({'PREP_H'}), frozenset({'PREP_H'}))\n"
     ]
    }
   ],
   "source": [
    "forbidden_states=set(lib.compute_forbidden(mega_obs))\n",
    "trim, R_preemp=lib.trim_joint_observer_v2(mega_obs, e_obs,e_era, e_ins)\n",
    "weakly=mega_obs.states-trim.states-forbidden_states\n",
    "colors={\n",
    "    \"red\": forbidden_states,\n",
    "    \"orange\": weakly,\n",
    "    \"green\": R_preemp\n",
    "}\n",
    "\n",
    "lib.draw_dfa_graphviz(mega_obs, filename=\"Trim_Colored\", state_colors=colors)\n",
    "lib.draw_dfa_graphviz(trim, filename=\"Trim\", state_colors=colors)\n"
   ]
  },
  {
   "cell_type": "code",
   "execution_count": null,
   "id": "ac235183",
   "metadata": {},
   "outputs": [],
   "source": []
  }
 ],
 "metadata": {
  "kernelspec": {
   "display_name": "base",
   "language": "python",
   "name": "python3"
  },
  "language_info": {
   "codemirror_mode": {
    "name": "ipython",
    "version": 3
   },
   "file_extension": ".py",
   "mimetype": "text/x-python",
   "name": "python",
   "nbconvert_exporter": "python",
   "pygments_lexer": "ipython3",
   "version": "3.12.7"
  }
 },
 "nbformat": 4,
 "nbformat_minor": 5
}
